{
 "cells": [
  {
   "cell_type": "markdown",
   "metadata": {},
   "source": [
    "# Classification. Linear models and KNN"
   ]
  },
  {
   "cell_type": "code",
   "execution_count": 24,
   "metadata": {},
   "outputs": [],
   "source": [
    "import os\n",
    "import numpy as np\n",
    "import pandas as pd\n",
    "import seaborn as sns\n",
    "import matplotlib.pyplot as plt"
   ]
  },
  {
   "cell_type": "code",
   "execution_count": 25,
   "metadata": {},
   "outputs": [],
   "source": [
    "from sklearn.pipeline import Pipeline\n",
    "from sklearn.compose import ColumnTransformer\n",
    "from sklearn.model_selection import train_test_split, cross_validate\n",
    "from sklearn.metrics import plot_confusion_matrix, accuracy_score\n",
    "from sklearn.linear_model import SGDClassifier\n",
    "from sklearn.preprocessing import StandardScaler, OneHotEncoder"
   ]
  },
  {
   "cell_type": "markdown",
   "metadata": {},
   "source": [
    "## Part 1: Titanic survival prediction"
   ]
  },
  {
   "cell_type": "markdown",
   "metadata": {},
   "source": [
    "### Dataset\n",
    "\n",
    "Read the description here: https://www.kaggle.com/c/titanic/data. Download the dataset and place it in the *data/titanic/* folder in your working directory.\n",
    "You will use train.csv for model training and validation. The test set is used for model testing: once the model is trained, you can predict whether a passenger survived or not for each passenger in the test set, and submit the predictions: https://www.kaggle.com/c/titanic/overview/evaluation.  \n"
   ]
  },
  {
   "cell_type": "code",
   "execution_count": 5,
   "metadata": {},
   "outputs": [],
   "source": [
    "PATH = \"./data/\""
   ]
  },
  {
   "cell_type": "code",
   "execution_count": 4,
   "metadata": {},
   "outputs": [],
   "source": [
    "data = pd.read_csv(os.path.join(PATH, 'titanic', 'train.csv')).set_index('PassengerId')"
   ]
  },
  {
   "cell_type": "code",
   "execution_count": 5,
   "metadata": {
    "scrolled": true
   },
   "outputs": [
    {
     "data": {
      "text/html": [
       "<div>\n",
       "<style scoped>\n",
       "    .dataframe tbody tr th:only-of-type {\n",
       "        vertical-align: middle;\n",
       "    }\n",
       "\n",
       "    .dataframe tbody tr th {\n",
       "        vertical-align: top;\n",
       "    }\n",
       "\n",
       "    .dataframe thead th {\n",
       "        text-align: right;\n",
       "    }\n",
       "</style>\n",
       "<table border=\"1\" class=\"dataframe\">\n",
       "  <thead>\n",
       "    <tr style=\"text-align: right;\">\n",
       "      <th></th>\n",
       "      <th>Survived</th>\n",
       "      <th>Pclass</th>\n",
       "      <th>Name</th>\n",
       "      <th>Sex</th>\n",
       "      <th>Age</th>\n",
       "      <th>SibSp</th>\n",
       "      <th>Parch</th>\n",
       "      <th>Ticket</th>\n",
       "      <th>Fare</th>\n",
       "      <th>Cabin</th>\n",
       "      <th>Embarked</th>\n",
       "    </tr>\n",
       "    <tr>\n",
       "      <th>PassengerId</th>\n",
       "      <th></th>\n",
       "      <th></th>\n",
       "      <th></th>\n",
       "      <th></th>\n",
       "      <th></th>\n",
       "      <th></th>\n",
       "      <th></th>\n",
       "      <th></th>\n",
       "      <th></th>\n",
       "      <th></th>\n",
       "      <th></th>\n",
       "    </tr>\n",
       "  </thead>\n",
       "  <tbody>\n",
       "    <tr>\n",
       "      <th>1</th>\n",
       "      <td>0</td>\n",
       "      <td>3</td>\n",
       "      <td>Braund, Mr. Owen Harris</td>\n",
       "      <td>male</td>\n",
       "      <td>22.0</td>\n",
       "      <td>1</td>\n",
       "      <td>0</td>\n",
       "      <td>A/5 21171</td>\n",
       "      <td>7.2500</td>\n",
       "      <td>NaN</td>\n",
       "      <td>S</td>\n",
       "    </tr>\n",
       "    <tr>\n",
       "      <th>2</th>\n",
       "      <td>1</td>\n",
       "      <td>1</td>\n",
       "      <td>Cumings, Mrs. John Bradley (Florence Briggs Th...</td>\n",
       "      <td>female</td>\n",
       "      <td>38.0</td>\n",
       "      <td>1</td>\n",
       "      <td>0</td>\n",
       "      <td>PC 17599</td>\n",
       "      <td>71.2833</td>\n",
       "      <td>C85</td>\n",
       "      <td>C</td>\n",
       "    </tr>\n",
       "    <tr>\n",
       "      <th>3</th>\n",
       "      <td>1</td>\n",
       "      <td>3</td>\n",
       "      <td>Heikkinen, Miss. Laina</td>\n",
       "      <td>female</td>\n",
       "      <td>26.0</td>\n",
       "      <td>0</td>\n",
       "      <td>0</td>\n",
       "      <td>STON/O2. 3101282</td>\n",
       "      <td>7.9250</td>\n",
       "      <td>NaN</td>\n",
       "      <td>S</td>\n",
       "    </tr>\n",
       "    <tr>\n",
       "      <th>4</th>\n",
       "      <td>1</td>\n",
       "      <td>1</td>\n",
       "      <td>Futrelle, Mrs. Jacques Heath (Lily May Peel)</td>\n",
       "      <td>female</td>\n",
       "      <td>35.0</td>\n",
       "      <td>1</td>\n",
       "      <td>0</td>\n",
       "      <td>113803</td>\n",
       "      <td>53.1000</td>\n",
       "      <td>C123</td>\n",
       "      <td>S</td>\n",
       "    </tr>\n",
       "    <tr>\n",
       "      <th>5</th>\n",
       "      <td>0</td>\n",
       "      <td>3</td>\n",
       "      <td>Allen, Mr. William Henry</td>\n",
       "      <td>male</td>\n",
       "      <td>35.0</td>\n",
       "      <td>0</td>\n",
       "      <td>0</td>\n",
       "      <td>373450</td>\n",
       "      <td>8.0500</td>\n",
       "      <td>NaN</td>\n",
       "      <td>S</td>\n",
       "    </tr>\n",
       "  </tbody>\n",
       "</table>\n",
       "</div>"
      ],
      "text/plain": [
       "             Survived  Pclass  \\\n",
       "PassengerId                     \n",
       "1                   0       3   \n",
       "2                   1       1   \n",
       "3                   1       3   \n",
       "4                   1       1   \n",
       "5                   0       3   \n",
       "\n",
       "                                                          Name     Sex   Age  \\\n",
       "PassengerId                                                                    \n",
       "1                                      Braund, Mr. Owen Harris    male  22.0   \n",
       "2            Cumings, Mrs. John Bradley (Florence Briggs Th...  female  38.0   \n",
       "3                                       Heikkinen, Miss. Laina  female  26.0   \n",
       "4                 Futrelle, Mrs. Jacques Heath (Lily May Peel)  female  35.0   \n",
       "5                                     Allen, Mr. William Henry    male  35.0   \n",
       "\n",
       "             SibSp  Parch            Ticket     Fare Cabin Embarked  \n",
       "PassengerId                                                          \n",
       "1                1      0         A/5 21171   7.2500   NaN        S  \n",
       "2                1      0          PC 17599  71.2833   C85        C  \n",
       "3                0      0  STON/O2. 3101282   7.9250   NaN        S  \n",
       "4                1      0            113803  53.1000  C123        S  \n",
       "5                0      0            373450   8.0500   NaN        S  "
      ]
     },
     "execution_count": 5,
     "metadata": {},
     "output_type": "execute_result"
    }
   ],
   "source": [
    "data.head()"
   ]
  },
  {
   "cell_type": "markdown",
   "metadata": {},
   "source": [
    "### EDA"
   ]
  },
  {
   "cell_type": "markdown",
   "metadata": {},
   "source": [
    "**(0.5 points)** How many females and males are there in the dataset? What about the survived passengers? Is there any relationship between the gender and the survival?"
   ]
  },
  {
   "cell_type": "code",
   "execution_count": null,
   "metadata": {},
   "outputs": [],
   "source": []
  },
  {
   "cell_type": "code",
   "execution_count": 6,
   "metadata": {},
   "outputs": [
    {
     "name": "stdout",
     "output_type": "stream",
     "text": [
      " male_counts =  577 \n",
      " female_counts =  314\n",
      " Survived_male =  109 \n",
      " Survived_female =  233\n"
     ]
    },
    {
     "data": {
      "image/png": "[encoded data removed]",
      "text/plain": [
       "<Figure size 432x288 with 1 Axes>"
      ]
     },
     "metadata": {
      "needs_background": "light"
     },
     "output_type": "display_data"
    }
   ],
   "source": [
    "## your code\n",
    "from sklearn.linear_model import LogisticRegression\n",
    "\n",
    "male_counts=data[(data.Sex=='male')].shape[0]\n",
    "female_counts=data[(data.Sex=='female')].shape[0]\n",
    "Survived_male, Survived_female=data[(data.Survived==1)&(data.Sex=='male')].shape[0],data[(data.Survived==1)&(data.Sex=='female')].shape[0]\n",
    "print(\" male_counts = \", male_counts,\"\\n\",\"female_counts = \", female_counts)\n",
    "print(\" Survived_male = \", Survived_male,\"\\n\",  \"Survived_female = \", Survived_female)\n",
    "sns.barplot(x=\"Sex\", y=\"Survived\", data={'Sex' : ['male','female'], 'Survived': [(Survived_male/male_counts), (Survived_female/female_counts)]})\n",
    "plt.show()\n",
    "\n"
   ]
  },
  {
   "cell_type": "code",
   "execution_count": 33,
   "metadata": {},
   "outputs": [
    {
     "name": "stdout",
     "output_type": "stream",
     "text": [
      "<class 'pandas.core.frame.DataFrame'>\n",
      "Int64Index: 891 entries, 1 to 891\n",
      "Data columns (total 13 columns):\n",
      " #   Column        Non-Null Count  Dtype  \n",
      "---  ------        --------------  -----  \n",
      " 0   Survived      891 non-null    int64  \n",
      " 1   Pclass        891 non-null    int64  \n",
      " 2   Name          891 non-null    object \n",
      " 3   Sex           891 non-null    object \n",
      " 4   Age           714 non-null    float64\n",
      " 5   SibSp         891 non-null    int64  \n",
      " 6   Parch         891 non-null    int64  \n",
      " 7   Ticket        891 non-null    object \n",
      " 8   Fare          891 non-null    float64\n",
      " 9   Cabin         204 non-null    object \n",
      " 10  Embarked      889 non-null    object \n",
      " 11  Sex_int       891 non-null    int64  \n",
      " 12  Embarked_int  889 non-null    float64\n",
      "dtypes: float64(3), int64(5), object(5)\n",
      "memory usage: 137.5+ KB\n",
      "3    0.135447\n",
      "1    0.368852\n",
      "2    0.157407\n",
      "Name: Pclass, dtype: float64\n",
      "\n",
      " S    0.174603\n",
      "C    0.305263\n",
      "Q    0.073171\n",
      "Name: Embarked, dtype: float64\n",
      "\n",
      " 0    0.165289\n",
      "1    0.327586\n",
      "2    0.322581\n",
      "3         NaN\n",
      "4         NaN\n",
      "5         NaN\n",
      "Name: Parch, dtype: float64\n",
      "\n",
      " 0    0.168203\n",
      "1    0.310680\n",
      "2    0.200000\n",
      "3         NaN\n",
      "4    0.083333\n",
      "5         NaN\n",
      "8         NaN\n",
      "Name: SibSp, dtype: float64\n"
     ]
    }
   ],
   "source": [
    "data.info()\n",
    "Pclaas_counts=data[(data.Sex=='male')]['Pclass'].value_counts()\n",
    "Pclaas_counts_sur=data[(data.Sex=='male')&(data.Survived==1)]['Pclass'].value_counts()\n",
    "print(Pclaas_counts_sur/Pclaas_counts)\n",
    "Embarked_counts=data[(data.Sex=='male')]['Embarked'].value_counts()\n",
    "Embarked_counts_sur=data[(data.Sex=='male')&(data.Survived==1)]['Embarked'].value_counts()\n",
    "print(\"\\n\", Embarked_counts_sur/Embarked_counts)\n",
    "Parch_counts=data[(data.Sex=='male')]['Parch'].value_counts()\n",
    "Parch_counts_sur=data[(data.Sex=='male')&(data.Survived==1)]['Parch'].value_counts()\n",
    "print(\"\\n\", Parch_counts_sur/Parch_counts)\n",
    "SibSp_counts=data[(data.Sex=='male')]['SibSp'].value_counts()\n",
    "SibSp_counts_sur=data[(data.Sex=='male')&(data.Survived==1)]['SibSp'].value_counts()\n",
    "print(\"\\n\", SibSp_counts_sur/SibSp_counts)\n",
    "List_men=['Pclass','Embarked','Parch','SibSp','SibSp']\n",
    "\n",
    "\n",
    "#female_counts=data[(data.Sex=='female')].shape[0]\n",
    "#Survived_male, Survived_female=data[(data.Survived==1)&(data.Sex=='male')].shape[0],data[(data.Survived==1)&(data.Sex=='female')].shape[0]\n",
    "#print(\" male_counts = \", male_counts,\"\\n\",\"female_counts = \", female_counts)\n",
    "#print(\" Survived_male = \", Survived_male,\"\\n\",  \"Survived_female = \", Survived_female)\n",
    "#sns.barplot(x=\"Sex\", y=\"Survived\", data={'Sex' : ['male','female'], 'Survived': [(Survived_male/male_counts), (Survived_female/female_counts)]})\n",
    "#plt.show()"
   ]
  },
  {
   "cell_type": "markdown",
   "metadata": {},
   "source": [
    "There is relationship between the gender and the survival. "
   ]
  },
  {
   "cell_type": "markdown",
   "metadata": {},
   "source": [
    "**(0.5 points)** Plot age distribution of the passengers. What is the average and the median age of survived and deceased passengers? Do age distributions differ for survived and deceased passengers? Why?"
   ]
  },
  {
   "cell_type": "code",
   "execution_count": 7,
   "metadata": {},
   "outputs": [
    {
     "data": {
      "image/png": "[encoded data removed]",
      "text/plain": [
       "<Figure size 432x288 with 1 Axes>"
      ]
     },
     "metadata": {
      "needs_background": "light"
     },
     "output_type": "display_data"
    },
    {
     "data": {
      "image/png": "[encoded data removed]",
      "text/plain": [
       "<Figure size 432x288 with 1 Axes>"
      ]
     },
     "metadata": {
      "needs_background": "light"
     },
     "output_type": "display_data"
    },
    {
     "data": {
      "image/png": "[encoded data removed]",
      "text/plain": [
       "<Figure size 432x288 with 1 Axes>"
      ]
     },
     "metadata": {
      "needs_background": "light"
     },
     "output_type": "display_data"
    },
    {
     "name": "stdout",
     "output_type": "stream",
     "text": [
      "28.343689655172415 28.0\n",
      "30.62617924528302 28.0\n"
     ]
    }
   ],
   "source": [
    "## your code\n",
    "data['Age'].value_counts()\n",
    "#Plot age distribution of the passengers.\n",
    "sns.histplot(data['Age'], stat='probability')\n",
    "plt.show()\n",
    "\n",
    "sns.histplot(data[(data.Survived==1)]['Age'], stat='probability')\n",
    "plt.show()\n",
    "\n",
    "sns.histplot(data[(data.Survived==0)]['Age'], stat='probability')\n",
    "plt.show()\n",
    "\n",
    "sur_mean,sur_median=data[(data.Survived==1)]['Age'].mean(),data[(data.Survived==1)]['Age'].median()\n",
    "dec_mean,dec_median=data[(data.Survived==0)]['Age'].mean(),data[(data.Survived==0)]['Age'].median()\n",
    "\n",
    "print(sur_mean,sur_median)\n",
    "print(dec_mean,dec_median)"
   ]
  },
  {
   "cell_type": "markdown",
   "metadata": {},
   "source": [
    "Age distributions are not very differ for survived and deceased passengers. There is small relationship between the Age and the survival"
   ]
  },
  {
   "cell_type": "markdown",
   "metadata": {},
   "source": [
    "**(1 point)** Explore \"passenger class\" and \"embarked\" features. What class was \"the safest\"? Is there any relationship between the embarkation port and the survival? Provide the corresponding visualizations."
   ]
  },
  {
   "cell_type": "code",
   "execution_count": 8,
   "metadata": {},
   "outputs": [
    {
     "name": "stdout",
     "output_type": "stream",
     "text": [
      "Embarked   C   Q   S\n",
      "Pclass              \n",
      "1         59   1  74\n",
      "2          9   2  76\n",
      "3         25  27  67\n",
      "Embarked   C   Q    S\n",
      "Pclass               \n",
      "1         85   2  127\n",
      "2         17   3  164\n",
      "3         66  72  353\n"
     ]
    },
    {
     "data": {
      "image/png": "[encoded data removed]",
      "text/plain": [
       "<Figure size 432x288 with 1 Axes>"
      ]
     },
     "metadata": {
      "needs_background": "light"
     },
     "output_type": "display_data"
    },
    {
     "data": {
      "image/png": "[encoded data removed]",
      "text/plain": [
       "<Figure size 432x288 with 1 Axes>"
      ]
     },
     "metadata": {
      "needs_background": "light"
     },
     "output_type": "display_data"
    }
   ],
   "source": [
    "## your code\n",
    "dPE_Sur=pd.crosstab(data[(data.Survived==1)]['Pclass'], data['Embarked'], normalize=False)\n",
    "dPE=pd.crosstab(data['Pclass'], data['Embarked'], normalize=False)\n",
    "print(dPE_Sur)\n",
    "print(dPE)\n",
    "\n",
    "Survived_1cl=data[(data.Survived==1)&(data.Pclass==1)].shape[0]\n",
    "Survived_2cl=data[(data.Survived==1)&(data.Pclass==2)].shape[0]\n",
    "Survived_3cl=data[(data.Survived==1)&(data.Pclass==3)].shape[0]\n",
    "All_1cl=data[(data.Pclass==1)].shape[0]\n",
    "All_2cl=data[(data.Pclass==2)].shape[0]\n",
    "All_3cl=data[(data.Pclass==3)].shape[0]\n",
    "\n",
    "sns.barplot(x=\"Pclass\", y=\"Survived\", data={'Pclass' : ['1st','2nd','3rd'], 'Survived': [(Survived_1cl/All_1cl), (Survived_2cl/All_2cl),(Survived_3cl/All_3cl)]})\n",
    "\n",
    "plt.show()\n",
    "\n",
    "Survived_C=data[(data.Survived==1)&(data.Embarked=='C')].shape[0]\n",
    "Survived_Q=data[(data.Survived==1)&(data.Embarked=='Q')].shape[0]\n",
    "Survived_S=data[(data.Survived==1)&(data.Embarked=='S')].shape[0]\n",
    "All_C=data[(data.Embarked=='C')].shape[0]\n",
    "All_Q=data[(data.Embarked=='Q')].shape[0]\n",
    "All_S=data[(data.Embarked=='S')].shape[0]\n",
    "\n",
    "sns.barplot(x=\"Embarked\", y=\"Survived\", data={'Embarked' : ['Cherbourg','Queenstown','Southampton'], 'Survived': [(Survived_C/All_C), (Survived_Q/All_Q),(Survived_S/All_S)]})\n",
    "plt.show()\n",
    "\n",
    "\n"
   ]
  },
  {
   "cell_type": "markdown",
   "metadata": {},
   "source": [
    "Согласно полученным, данным можно сделать вывод, что те кто приобрели билет на 1 класс и сели Cherbourg имели больший шанс выжить.\n"
   ]
  },
  {
   "cell_type": "markdown",
   "metadata": {},
   "source": [
    "### Modelling"
   ]
  },
  {
   "cell_type": "markdown",
   "metadata": {},
   "source": [
    "**(0.5 points)** Find the percentage of missing values for each feature. "
   ]
  },
  {
   "cell_type": "code",
   "execution_count": 9,
   "metadata": {},
   "outputs": [
    {
     "name": "stdout",
     "output_type": "stream",
     "text": [
      "Survived     0.000000\n",
      "Pclass       0.000000\n",
      "Name         0.000000\n",
      "Sex          0.000000\n",
      "Age         19.865320\n",
      "SibSp        0.000000\n",
      "Parch        0.000000\n",
      "Ticket       0.000000\n",
      "Fare         0.000000\n",
      "Cabin       77.104377\n",
      "Embarked     0.224467\n",
      "dtype: float64\n"
     ]
    }
   ],
   "source": [
    "## your code\n",
    "a=(data.isna().sum()/data.shape[0])*100\n",
    "print(a)\n"
   ]
  },
  {
   "cell_type": "markdown",
   "metadata": {},
   "source": [
    "Think about the ways to handle these missing values for modelling and write your answer below. Which methods would you suggest? What are their advantages and disadvantages?\n",
    "\n",
    "Значение Age и Embarked считаю лучше заполнить средним значением по выборке, а столбец с номерами кабин исключить из выборки так как количество пропусков сильно велико."
   ]
  },
  {
   "cell_type": "markdown",
   "metadata": {},
   "source": [
    "**(1.5 points)** Prepare the features and train two models (KNN and Logistic Regression) to predict the survival. Compare the results. Use accuracy as a metric. Don't forget about cross-validation!"
   ]
  },
  {
   "cell_type": "code",
   "execution_count": 10,
   "metadata": {},
   "outputs": [],
   "source": [
    "y = data['Survived']"
   ]
  },
  {
   "cell_type": "code",
   "execution_count": 11,
   "metadata": {},
   "outputs": [
    {
     "name": "stdout",
     "output_type": "stream",
     "text": [
      "[0.78212291 0.78651685 0.78089888 0.76404494 0.8258427 ]\n",
      "KNN :  [0.62222222 0.64044944 0.61797753 0.74157303 0.69662921 0.70786517\n",
      " 0.7752809  0.73033708 0.75280899 0.74157303]\n",
      "[0.79329609 0.80898876 0.76404494 0.75280899 0.79213483]\n",
      "[0.74285714 0.73529412 0.61764706 0.82352941 0.76470588 0.61764706\n",
      " 0.61764706 0.55882353 0.67647059 0.65714286]\n",
      "result_0 [0.78787879 0.8013468  0.77104377]\n"
     ]
    }
   ],
   "source": [
    "#d = \n",
    "from sklearn.neighbors import KNeighborsClassifier\n",
    "from sklearn.pipeline import Pipeline, make_pipeline\n",
    "from sklearn.ensemble import RandomForestClassifier, RandomForestRegressor\n",
    "from sklearn.feature_selection import VarianceThreshold, SelectFromModel, RFECV, SequentialFeatureSelector\n",
    "from sklearn.model_selection import KFold, cross_val_score\n",
    "\n",
    "data['Sex_int'] = data['Sex'].map({'male' : 1, 'female' : 0})\n",
    "data['Embarked_int'] = data['Embarked'].map({'C' : 0, 'Q' : 1, 'S' : 2})\n",
    "List=['Pclass', 'Sex_int', 'Age', 'SibSp', 'Parch', 'Fare', 'Embarked_int']\n",
    "List_2=['Pclass', 'Sex_int', 'Age']\n",
    "List_3=['Pclass', 'Sex_int']\n",
    "my_model = LogisticRegression(solver='liblinear', penalty='l1')\n",
    "my_model_2 = LogisticRegression(solver='liblinear', penalty='l1')\n",
    "data_X=data[List].fillna(value=data[List].mean())\n",
    "data_X2=data[List_2].fillna(value=data[List_2].mean())\n",
    "data_X3=data[List_3].fillna(value=data[List_3].mean())\n",
    "my_model.fit(X=data_X, y=y)\n",
    "results_2 = cross_validate(my_model,data_X, y, cv=5,return_train_score=True,return_estimator=True)\n",
    "print(results_2['test_score'])\n",
    "model_X2=results_2['estimator'][4]\n",
    "\n",
    "data.Survived.value_counts()\n",
    "\n",
    "k_means_model = KNeighborsClassifier(n_neighbors=11)\n",
    "#k_means_model.fit(X=data_X, y=y);\n",
    "KNN_mod=cross_validate(k_means_model,data_X, y, cv=10,return_train_score=True,return_estimator=True)\n",
    "print(\"KNN : \", KNN_mod['test_score'])\n",
    "\n",
    "selection_model = RandomForestClassifier(random_state=42)\n",
    "pipe_selection = make_pipeline(StandardScaler(), SelectFromModel(selection_model), my_model)\n",
    "results=cross_validate(pipe_selection, data_X, y, scoring='accuracy', cv=5, return_estimator=True)\n",
    "\n",
    "#print(results['estimator'])\n",
    "print(results['test_score'])\n",
    "model_X=results['estimator'][1]\n",
    "\n",
    "## your code\n",
    "pipe_selection_2 = make_pipeline(StandardScaler(), SelectFromModel(selection_model), my_model_2)\n",
    "results_test=cross_validate(pipe_selection, data_X2, y, scoring='recall', cv=10, return_estimator=True)\n",
    "print(results_test['test_score'])\n",
    "model_X3=results_test['estimator'][3]\n",
    "\n",
    "\n",
    "results_0 = cross_validate(my_model,data_X3, y, cv=3,scoring='accuracy', return_train_score=True,return_estimator=True)\n",
    "print(\"result_0\", results_0['test_score'])"
   ]
  },
  {
   "cell_type": "markdown",
   "metadata": {},
   "source": [
    "**(0.5 + X points)** Try more feature engineering and hyperparameter tuning to improve the results. You may use either KNN or Logistic Regression (or both)."
   ]
  },
  {
   "cell_type": "code",
   "execution_count": 66,
   "metadata": {},
   "outputs": [
    {
     "name": "stdout",
     "output_type": "stream",
     "text": [
      "Your submission was successfully saved!\n",
      "0.645933014354067\n",
      "0.638755980861244\n",
      "0.9856459330143541\n",
      "0.9497607655502392\n",
      "1.0\n",
      "Your submission was successfully saved!\n",
      "Your submission was successfully saved!\n",
      "Your submission was successfully saved!\n"
     ]
    }
   ],
   "source": [
    "## your code\n",
    "data_test = pd.read_csv(os.path.join(PATH, 'titanic', 'test.csv'))\n",
    "data_test['Sex_int'] = data_test['Sex'].map({'male' : 1, 'female' : 0})\n",
    "data_test['Embarked_int'] = data_test['Embarked'].map({'C' : 0, 'Q' : 1, 'S' : 2})\n",
    "Y_test = pd.read_csv(os.path.join(PATH, 'titanic', 'gender_submission.csv')).set_index('PassengerId')\n",
    "#print(Y_test.shape[0])\n",
    "data_test_X=data_test[List].fillna(value=data_test[List].mean())\n",
    "predictions=my_model.predict(data_test_X[List])\n",
    "\n",
    "output = pd.DataFrame({'PassengerId': data_test.PassengerId, 'Survived': predictions})\n",
    "output.to_csv('my_submission.csv', index=False)\n",
    "print(\"Your submission was successfully saved!\")\n",
    "print(my_model.score(data_test_X[List],Y_test))\n",
    "print(KNN_mod['estimator'][3].score(data_test_X[List],Y_test))\n",
    "print(model_X.score(data_test_X[List],Y_test))\n",
    "print(model_X2.score(data_test_X[List],Y_test))\n",
    "data_test_X3=data_test[List_2].fillna(value=data_test[List_2].mean())\n",
    "print(model_X3.score(data_test_X3[List_2],Y_test))\n",
    "\n",
    "predictions_Final=model_X.predict(data_test_X[List])\n",
    "predictions_Final_2=model_X2.predict(data_test_X[List])\n",
    "predictions_Final_3=model_X3.predict(data_test_X3[List_2])\n",
    "predictions_Final_0=results_0['estimator'][1].predict(data_test_X[List_3])\n",
    "\n",
    "output_1 = pd.DataFrame({'PassengerId': data_test.PassengerId, 'Survived': predictions_Final})\n",
    "output_1.to_csv('my_submission_Final.csv', index=False)\n",
    "print(\"Your submission was successfully saved!\")\n",
    "\n",
    "output_2 = pd.DataFrame({'PassengerId': data_test.PassengerId, 'Survived': predictions_Final_2})\n",
    "output_2.to_csv('my_submission_Final_2.csv', index=False)\n",
    "print(\"Your submission was successfully saved!\")\n",
    "\n",
    "output_3 = pd.DataFrame({'PassengerId': data_test.PassengerId, 'Survived': predictions_Final_3})\n",
    "output_3.to_csv('my_submission_Final_3.csv', index=False)\n",
    "print(\"Your submission was successfully saved!\")\n",
    "output_0 = pd.DataFrame({'PassengerId': data_test.PassengerId, 'Survived': predictions_Final_0})\n",
    "output_0.to_csv('my_submission_Final_0.csv', index=False)"
   ]
  },
  {
   "cell_type": "markdown",
   "metadata": {},
   "source": [
    "оценка на kaggle 0.76555"
   ]
  },
  {
   "cell_type": "markdown",
   "metadata": {},
   "source": [
    "Load the test set and make the predictions. Submit them to kaggle and see the results :)\n",
    "Select the best model, load the test set and make the predictions. Submit them to kaggle.\n",
    "\n",
    "**Note**. X points will depend on your kaggle leaderboard score.\n",
    "$$ f(score) = 0.5, \\ \\ 0.76 \\leq score < 0.78,$$\n",
    "$$ f(score) = 1.0, \\ \\ 0.78 \\leq score < 0.81,$$ \n",
    "$$ f(score) = 2.5, \\ \\ 0.81 \\leq score $$ \n",
    "Your code should generate the output submitted to kaggle. Fix random seeds to make the results reproducible."
   ]
  },
  {
   "cell_type": "code",
   "execution_count": 13,
   "metadata": {},
   "outputs": [
    {
     "name": "stdout",
     "output_type": "stream",
     "text": [
      "0.937799043062201\n",
      "Your submission was successfully saved!\n"
     ]
    },
    {
     "data": {
      "text/plain": [
       "0.937799043062201"
      ]
     },
     "execution_count": 13,
     "metadata": {},
     "output_type": "execute_result"
    }
   ],
   "source": [
    "## your code\n",
    "#from sklearn.ensemble import RandomForestClassifier, RandomForestRegressor\n",
    "#from sklearn.feature_selection import SelectFromModel\n",
    "#selection_model = RandomForestClassifier(random_state=42)\n",
    "#selector = SelectFromModel(selection_model).fit(data_X, y)\n",
    "#cancer_data_pruned = selector.transform(data_X)\n",
    "#print(cancer_data_pruned)\n",
    "scaler_1 = StandardScaler()\n",
    "data_X_SC=scaler_1.fit_transform(data_X)\n",
    "data_test_X_SC=scaler_1.fit_transform(data_test_X[List])\n",
    "my_model.fit(X=data_X_SC, y=y)\n",
    "print(my_model.score(data_test_X_SC,Y_test))\n",
    "predictions=my_model.predict(data_test_X_SC)\n",
    "output = pd.DataFrame({'PassengerId': data_test.PassengerId, 'Survived': predictions})\n",
    "output.to_csv('my_submission_2.csv', index=False)\n",
    "print(\"Your submission was successfully saved!\")\n",
    "accuracy_score(y_true=Y_test, y_pred=predictions)\n"
   ]
  },
  {
   "cell_type": "code",
   "execution_count": 85,
   "metadata": {},
   "outputs": [
    {
     "name": "stdout",
     "output_type": "stream",
     "text": [
      "     Pclass  Sex_int\n",
      "1         3        0\n",
      "4         3        0\n",
      "6         3        0\n",
      "8         3        0\n",
      "12        1        0\n",
      "..      ...      ...\n",
      "409       3        0\n",
      "410       3        0\n",
      "411       1        0\n",
      "412       3        0\n",
      "414       1        0\n",
      "\n",
      "[152 rows x 2 columns]\n",
      "[1 1 1 1 1 1 1 1 1 1 1 1 1 1 1 1 1 1 1 1 1 1 1 1 1 1 1 1 1 1 1 1 1 1 1 1 1\n",
      " 1 1 1 1 1 1 1 1 1 1 1 1 1 1 1 1 1 1 1 1 1 1 1 1 1 1 1 1 1 1 1 1 1 1 1 1 1\n",
      " 1 1 1 1 1 1 1 1 1 1 1 1 1 1 1 1 1 1 1 1 1 1 1 1 1 1 1 1 1 1 1 1 1 1 1 1 1\n",
      " 1 1 1 1 1 1 1 1 1 1 1 1 1 1 1 1 1 1 1 1 1 1 1 1 1 1 1 1 1 1 1 1 1 1 1 1 1\n",
      " 1 1 1 1]\n",
      "     PassengerId  Survived\n",
      "1            893         1\n",
      "4            896         1\n",
      "6            898         1\n",
      "8            900         1\n",
      "12           904         1\n",
      "..           ...       ...\n",
      "409         1301         1\n",
      "410         1302         1\n",
      "411         1303         1\n",
      "412         1304         1\n",
      "414         1306         1\n",
      "\n",
      "[152 rows x 2 columns]\n",
      "152 266 418\n",
      "     PassengerId  Survived\n",
      "1            893         1\n",
      "4            896         1\n",
      "6            898         1\n",
      "8            900         1\n",
      "12           904         1\n",
      "..           ...       ...\n",
      "407         1299         0\n",
      "413         1305         0\n",
      "415         1307         0\n",
      "416         1308         0\n",
      "417         1309         0\n",
      "\n",
      "[418 rows x 2 columns]\n"
     ]
    },
    {
     "name": "stderr",
     "output_type": "stream",
     "text": [
      "d:\\Users\\ustes\\anaconda3\\lib\\site-packages\\pandas\\core\\series.py:4517: SettingWithCopyWarning: \n",
      "A value is trying to be set on a copy of a slice from a DataFrame\n",
      "\n",
      "See the caveats in the documentation: https://pandas.pydata.org/pandas-docs/stable/user_guide/indexing.html#returning-a-view-versus-a-copy\n",
      "  return super().fillna(\n",
      "d:\\Users\\ustes\\anaconda3\\lib\\site-packages\\pandas\\core\\frame.py:4317: SettingWithCopyWarning: \n",
      "A value is trying to be set on a copy of a slice from a DataFrame\n",
      "\n",
      "See the caveats in the documentation: https://pandas.pydata.org/pandas-docs/stable/user_guide/indexing.html#returning-a-view-versus-a-copy\n",
      "  return super().fillna(\n"
     ]
    }
   ],
   "source": [
    "\n",
    "List_men=['Pclass','Embarked_int','Parch','SibSp','SibSp','Survived']\n",
    "List_X=['Pclass','Embarked_int','Parch','SibSp','SibSp']\n",
    "data_men=data[(data.Sex=='male')][List_men]\n",
    "data_women=data[(data.Sex=='female')][List_men]\n",
    "#print(data_men.head())\n",
    "#print(data_men.shape[0],data_women.shape[0])\n",
    "data_men.dropna()\n",
    "\n",
    "#print(data_men.shape[0],data_women.shape[0])\n",
    "y_men = data_men['Survived']\n",
    "\n",
    "\n",
    "model_men = LogisticRegression(solver='liblinear', penalty='l1')\n",
    "#model_women = LogisticRegression(solver='liblinear', penalty='l1')\n",
    "model_men.fit(X=data_men[List_X], y=y_men)\n",
    "#res_men = cross_validate(model_men,data_men[List_X], y_men, cv=5,return_train_score=True,return_estimator=True)\n",
    "data_test_m=data_test[data_test.Sex=='male']\n",
    "data_test_w=data_test[data_test.Sex=='female']\n",
    "\n",
    "data_men_test=data_test_m[List_X].fillna(value=data_test_m[List_X].mean())\n",
    "data_women_test=data_test_w[List_3].fillna(value=data_test_w[List_3].mean())\n",
    "predictions_men=model_men.predict(data_men_test[List_X])\n",
    "print(data_women_test[List_3])\n",
    "out_m=results_0['estimator'][1].predict(data_women_test[List_3])\n",
    "print(out_m)\n",
    "output_men = pd.DataFrame({'PassengerId': data_test_m.PassengerId, 'Survived': predictions_men})\n",
    "output_women=pd.DataFrame({'PassengerId': data_test_w.PassengerId, 'Survived': out_m})\n",
    "print(output_women)\n",
    "print(output_women.shape[0],output_men.shape[0],data_test.shape[0])\n",
    "output_mw=output_women.append(output_men)\n",
    "print(output_mw)\n",
    "output_mw=output_mw.sort_values(by='PassengerId')\n",
    "output_mw.to_csv('my_submission_new.csv', index=False)\n"
   ]
  },
  {
   "cell_type": "markdown",
   "metadata": {},
   "source": [
    "## Part 2: Porto Seguro’s Safe Driver Prediction"
   ]
  },
  {
   "cell_type": "markdown",
   "metadata": {},
   "source": [
    "Let's build a model that predicts the probability that a driver will initiate an auto insurance claim in the next year.\n",
    "Read the detailed description and download the dataset https://www.kaggle.com/c/porto-seguro-safe-driver-prediction/data. Put the data into *./data/porto/*."
   ]
  },
  {
   "cell_type": "code",
   "execution_count": 26,
   "metadata": {},
   "outputs": [],
   "source": [
    "insurance_data = pd.read_csv(os.path.join(PATH, 'porto', 'train.csv')).set_index('id')"
   ]
  },
  {
   "cell_type": "code",
   "execution_count": 27,
   "metadata": {},
   "outputs": [
    {
     "data": {
      "text/html": [
       "<div>\n",
       "<style scoped>\n",
       "    .dataframe tbody tr th:only-of-type {\n",
       "        vertical-align: middle;\n",
       "    }\n",
       "\n",
       "    .dataframe tbody tr th {\n",
       "        vertical-align: top;\n",
       "    }\n",
       "\n",
       "    .dataframe thead th {\n",
       "        text-align: right;\n",
       "    }\n",
       "</style>\n",
       "<table border=\"1\" class=\"dataframe\">\n",
       "  <thead>\n",
       "    <tr style=\"text-align: right;\">\n",
       "      <th></th>\n",
       "      <th>target</th>\n",
       "      <th>ps_ind_01</th>\n",
       "      <th>ps_ind_02_cat</th>\n",
       "      <th>ps_ind_03</th>\n",
       "      <th>ps_ind_04_cat</th>\n",
       "      <th>ps_ind_05_cat</th>\n",
       "      <th>ps_ind_06_bin</th>\n",
       "      <th>ps_ind_07_bin</th>\n",
       "      <th>ps_ind_08_bin</th>\n",
       "      <th>ps_ind_09_bin</th>\n",
       "      <th>...</th>\n",
       "      <th>ps_calc_11</th>\n",
       "      <th>ps_calc_12</th>\n",
       "      <th>ps_calc_13</th>\n",
       "      <th>ps_calc_14</th>\n",
       "      <th>ps_calc_15_bin</th>\n",
       "      <th>ps_calc_16_bin</th>\n",
       "      <th>ps_calc_17_bin</th>\n",
       "      <th>ps_calc_18_bin</th>\n",
       "      <th>ps_calc_19_bin</th>\n",
       "      <th>ps_calc_20_bin</th>\n",
       "    </tr>\n",
       "    <tr>\n",
       "      <th>id</th>\n",
       "      <th></th>\n",
       "      <th></th>\n",
       "      <th></th>\n",
       "      <th></th>\n",
       "      <th></th>\n",
       "      <th></th>\n",
       "      <th></th>\n",
       "      <th></th>\n",
       "      <th></th>\n",
       "      <th></th>\n",
       "      <th></th>\n",
       "      <th></th>\n",
       "      <th></th>\n",
       "      <th></th>\n",
       "      <th></th>\n",
       "      <th></th>\n",
       "      <th></th>\n",
       "      <th></th>\n",
       "      <th></th>\n",
       "      <th></th>\n",
       "      <th></th>\n",
       "    </tr>\n",
       "  </thead>\n",
       "  <tbody>\n",
       "    <tr>\n",
       "      <th>7</th>\n",
       "      <td>0</td>\n",
       "      <td>2</td>\n",
       "      <td>2</td>\n",
       "      <td>5</td>\n",
       "      <td>1</td>\n",
       "      <td>0</td>\n",
       "      <td>0</td>\n",
       "      <td>1</td>\n",
       "      <td>0</td>\n",
       "      <td>0</td>\n",
       "      <td>...</td>\n",
       "      <td>9</td>\n",
       "      <td>1</td>\n",
       "      <td>5</td>\n",
       "      <td>8</td>\n",
       "      <td>0</td>\n",
       "      <td>1</td>\n",
       "      <td>1</td>\n",
       "      <td>0</td>\n",
       "      <td>0</td>\n",
       "      <td>1</td>\n",
       "    </tr>\n",
       "    <tr>\n",
       "      <th>9</th>\n",
       "      <td>0</td>\n",
       "      <td>1</td>\n",
       "      <td>1</td>\n",
       "      <td>7</td>\n",
       "      <td>0</td>\n",
       "      <td>0</td>\n",
       "      <td>0</td>\n",
       "      <td>0</td>\n",
       "      <td>1</td>\n",
       "      <td>0</td>\n",
       "      <td>...</td>\n",
       "      <td>3</td>\n",
       "      <td>1</td>\n",
       "      <td>1</td>\n",
       "      <td>9</td>\n",
       "      <td>0</td>\n",
       "      <td>1</td>\n",
       "      <td>1</td>\n",
       "      <td>0</td>\n",
       "      <td>1</td>\n",
       "      <td>0</td>\n",
       "    </tr>\n",
       "    <tr>\n",
       "      <th>13</th>\n",
       "      <td>0</td>\n",
       "      <td>5</td>\n",
       "      <td>4</td>\n",
       "      <td>9</td>\n",
       "      <td>1</td>\n",
       "      <td>0</td>\n",
       "      <td>0</td>\n",
       "      <td>0</td>\n",
       "      <td>1</td>\n",
       "      <td>0</td>\n",
       "      <td>...</td>\n",
       "      <td>4</td>\n",
       "      <td>2</td>\n",
       "      <td>7</td>\n",
       "      <td>7</td>\n",
       "      <td>0</td>\n",
       "      <td>1</td>\n",
       "      <td>1</td>\n",
       "      <td>0</td>\n",
       "      <td>1</td>\n",
       "      <td>0</td>\n",
       "    </tr>\n",
       "    <tr>\n",
       "      <th>16</th>\n",
       "      <td>0</td>\n",
       "      <td>0</td>\n",
       "      <td>1</td>\n",
       "      <td>2</td>\n",
       "      <td>0</td>\n",
       "      <td>0</td>\n",
       "      <td>1</td>\n",
       "      <td>0</td>\n",
       "      <td>0</td>\n",
       "      <td>0</td>\n",
       "      <td>...</td>\n",
       "      <td>2</td>\n",
       "      <td>2</td>\n",
       "      <td>4</td>\n",
       "      <td>9</td>\n",
       "      <td>0</td>\n",
       "      <td>0</td>\n",
       "      <td>0</td>\n",
       "      <td>0</td>\n",
       "      <td>0</td>\n",
       "      <td>0</td>\n",
       "    </tr>\n",
       "    <tr>\n",
       "      <th>17</th>\n",
       "      <td>0</td>\n",
       "      <td>0</td>\n",
       "      <td>2</td>\n",
       "      <td>0</td>\n",
       "      <td>1</td>\n",
       "      <td>0</td>\n",
       "      <td>1</td>\n",
       "      <td>0</td>\n",
       "      <td>0</td>\n",
       "      <td>0</td>\n",
       "      <td>...</td>\n",
       "      <td>3</td>\n",
       "      <td>1</td>\n",
       "      <td>1</td>\n",
       "      <td>3</td>\n",
       "      <td>0</td>\n",
       "      <td>0</td>\n",
       "      <td>0</td>\n",
       "      <td>1</td>\n",
       "      <td>1</td>\n",
       "      <td>0</td>\n",
       "    </tr>\n",
       "  </tbody>\n",
       "</table>\n",
       "<p>5 rows × 58 columns</p>\n",
       "</div>"
      ],
      "text/plain": [
       "    target  ps_ind_01  ps_ind_02_cat  ps_ind_03  ps_ind_04_cat  ps_ind_05_cat  \\\n",
       "id                                                                              \n",
       "7        0          2              2          5              1              0   \n",
       "9        0          1              1          7              0              0   \n",
       "13       0          5              4          9              1              0   \n",
       "16       0          0              1          2              0              0   \n",
       "17       0          0              2          0              1              0   \n",
       "\n",
       "    ps_ind_06_bin  ps_ind_07_bin  ps_ind_08_bin  ps_ind_09_bin  ...  \\\n",
       "id                                                              ...   \n",
       "7               0              1              0              0  ...   \n",
       "9               0              0              1              0  ...   \n",
       "13              0              0              1              0  ...   \n",
       "16              1              0              0              0  ...   \n",
       "17              1              0              0              0  ...   \n",
       "\n",
       "    ps_calc_11  ps_calc_12  ps_calc_13  ps_calc_14  ps_calc_15_bin  \\\n",
       "id                                                                   \n",
       "7            9           1           5           8               0   \n",
       "9            3           1           1           9               0   \n",
       "13           4           2           7           7               0   \n",
       "16           2           2           4           9               0   \n",
       "17           3           1           1           3               0   \n",
       "\n",
       "    ps_calc_16_bin  ps_calc_17_bin  ps_calc_18_bin  ps_calc_19_bin  \\\n",
       "id                                                                   \n",
       "7                1               1               0               0   \n",
       "9                1               1               0               1   \n",
       "13               1               1               0               1   \n",
       "16               0               0               0               0   \n",
       "17               0               0               1               1   \n",
       "\n",
       "    ps_calc_20_bin  \n",
       "id                  \n",
       "7                1  \n",
       "9                0  \n",
       "13               0  \n",
       "16               0  \n",
       "17               0  \n",
       "\n",
       "[5 rows x 58 columns]"
      ]
     },
     "execution_count": 27,
     "metadata": {},
     "output_type": "execute_result"
    }
   ],
   "source": [
    "insurance_data.head()"
   ]
  },
  {
   "cell_type": "markdown",
   "metadata": {},
   "source": [
    "Let's skip EDA for now. We'll use SGDClassifier and build a simple baseline: https://scikit-learn.org/stable/modules/generated/sklearn.linear_model.SGDClassifier.html.\n",
    "Note that loss='log' gives logistic regression."
   ]
  },
  {
   "cell_type": "code",
   "execution_count": 28,
   "metadata": {},
   "outputs": [],
   "source": [
    "y = insurance_data['target']\n",
    "X = insurance_data.drop(columns=['target'])"
   ]
  },
  {
   "cell_type": "code",
   "execution_count": 29,
   "metadata": {
    "code_folding": []
   },
   "outputs": [],
   "source": [
    "numeric_features = [column for column in X if not (column.endswith(\"cat\") or column.endswith(\"bin\"))]\n",
    "numeric_transformer = Pipeline(steps=[('scaler', StandardScaler())])\n",
    "\n",
    "categorical_features = [column for column in X if (column.endswith(\"cat\") or column.endswith(\"bin\"))]\n",
    "categorical_transformer = Pipeline(steps=[('encoder', OneHotEncoder(handle_unknown='ignore'))])\n",
    "\n",
    "preprocessor = ColumnTransformer(\n",
    "    transformers=[\n",
    "        ('num', numeric_transformer, numeric_features),\n",
    "        ('cat', categorical_transformer, categorical_features)])\n",
    "\n",
    "pipeline = Pipeline(steps=[('preprocessor', preprocessor),\n",
    "                           ('classifier', SGDClassifier(loss='log', alpha=0.001, n_jobs=-1, random_state=14))])"
   ]
  },
  {
   "cell_type": "code",
   "execution_count": 30,
   "metadata": {},
   "outputs": [],
   "source": [
    "X_train, X_valid, y_train, y_valid = train_test_split(X, y, test_size=0.3, random_state=42)"
   ]
  },
  {
   "cell_type": "code",
   "execution_count": 31,
   "metadata": {},
   "outputs": [],
   "source": [
    "clf = pipeline.fit(X_train, y_train)"
   ]
  },
  {
   "cell_type": "code",
   "execution_count": 22,
   "metadata": {},
   "outputs": [],
   "source": [
    "#"
   ]
  },
  {
   "cell_type": "markdown",
   "metadata": {},
   "source": [
    "We'll calculate the model accuracy:"
   ]
  },
  {
   "cell_type": "code",
   "execution_count": 32,
   "metadata": {},
   "outputs": [
    {
     "data": {
      "text/plain": [
       "0.9631224658945812"
      ]
     },
     "execution_count": 32,
     "metadata": {},
     "output_type": "execute_result"
    }
   ],
   "source": [
    "accuracy_score(y_true=y_valid, y_pred=clf.predict(X_valid))"
   ]
  },
  {
   "cell_type": "markdown",
   "metadata": {},
   "source": [
    "Wow! Our model gets ~0.963 accuracy! But is it really good?...\n",
    "\n",
    "Let's plot the confusion matrix and analyze the errors."
   ]
  },
  {
   "cell_type": "code",
   "execution_count": 33,
   "metadata": {},
   "outputs": [
    {
     "data": {
      "image/png": "[encoded data removed]",
      "text/plain": [
       "<Figure size 432x288 with 2 Axes>"
      ]
     },
     "metadata": {
      "needs_background": "light"
     },
     "output_type": "display_data"
    }
   ],
   "source": [
    "disp = plot_confusion_matrix(clf, X_valid, y_valid,\n",
    "                             cmap=plt.cm.Blues,\n",
    "                             normalize=None)"
   ]
  },
  {
   "cell_type": "markdown",
   "metadata": {},
   "source": [
    "Well, it turns out that our model is completely useless. Let's calculate some basic statistics:"
   ]
  },
  {
   "cell_type": "code",
   "execution_count": 34,
   "metadata": {
    "scrolled": true
   },
   "outputs": [
    {
     "data": {
      "text/html": [
       "<div>\n",
       "<style scoped>\n",
       "    .dataframe tbody tr th:only-of-type {\n",
       "        vertical-align: middle;\n",
       "    }\n",
       "\n",
       "    .dataframe tbody tr th {\n",
       "        vertical-align: top;\n",
       "    }\n",
       "\n",
       "    .dataframe thead th {\n",
       "        text-align: right;\n",
       "    }\n",
       "</style>\n",
       "<table border=\"1\" class=\"dataframe\">\n",
       "  <thead>\n",
       "    <tr style=\"text-align: right;\">\n",
       "      <th></th>\n",
       "      <th>target</th>\n",
       "      <th>ps_ind_01</th>\n",
       "      <th>ps_ind_02_cat</th>\n",
       "      <th>ps_ind_03</th>\n",
       "      <th>ps_ind_04_cat</th>\n",
       "      <th>ps_ind_05_cat</th>\n",
       "      <th>ps_ind_06_bin</th>\n",
       "      <th>ps_ind_07_bin</th>\n",
       "      <th>ps_ind_08_bin</th>\n",
       "      <th>ps_ind_09_bin</th>\n",
       "      <th>...</th>\n",
       "      <th>ps_calc_11</th>\n",
       "      <th>ps_calc_12</th>\n",
       "      <th>ps_calc_13</th>\n",
       "      <th>ps_calc_14</th>\n",
       "      <th>ps_calc_15_bin</th>\n",
       "      <th>ps_calc_16_bin</th>\n",
       "      <th>ps_calc_17_bin</th>\n",
       "      <th>ps_calc_18_bin</th>\n",
       "      <th>ps_calc_19_bin</th>\n",
       "      <th>ps_calc_20_bin</th>\n",
       "    </tr>\n",
       "  </thead>\n",
       "  <tbody>\n",
       "    <tr>\n",
       "      <th>count</th>\n",
       "      <td>595212.000000</td>\n",
       "      <td>595212.000000</td>\n",
       "      <td>595212.000000</td>\n",
       "      <td>595212.000000</td>\n",
       "      <td>595212.000000</td>\n",
       "      <td>595212.000000</td>\n",
       "      <td>595212.000000</td>\n",
       "      <td>595212.000000</td>\n",
       "      <td>595212.000000</td>\n",
       "      <td>595212.000000</td>\n",
       "      <td>...</td>\n",
       "      <td>595212.000000</td>\n",
       "      <td>595212.000000</td>\n",
       "      <td>595212.000000</td>\n",
       "      <td>595212.000000</td>\n",
       "      <td>595212.000000</td>\n",
       "      <td>595212.000000</td>\n",
       "      <td>595212.000000</td>\n",
       "      <td>595212.000000</td>\n",
       "      <td>595212.000000</td>\n",
       "      <td>595212.000000</td>\n",
       "    </tr>\n",
       "    <tr>\n",
       "      <th>mean</th>\n",
       "      <td>0.036448</td>\n",
       "      <td>1.900378</td>\n",
       "      <td>1.358943</td>\n",
       "      <td>4.423318</td>\n",
       "      <td>0.416794</td>\n",
       "      <td>0.405188</td>\n",
       "      <td>0.393742</td>\n",
       "      <td>0.257033</td>\n",
       "      <td>0.163921</td>\n",
       "      <td>0.185304</td>\n",
       "      <td>...</td>\n",
       "      <td>5.441382</td>\n",
       "      <td>1.441918</td>\n",
       "      <td>2.872288</td>\n",
       "      <td>7.539026</td>\n",
       "      <td>0.122427</td>\n",
       "      <td>0.627840</td>\n",
       "      <td>0.554182</td>\n",
       "      <td>0.287182</td>\n",
       "      <td>0.349024</td>\n",
       "      <td>0.153318</td>\n",
       "    </tr>\n",
       "    <tr>\n",
       "      <th>std</th>\n",
       "      <td>0.187401</td>\n",
       "      <td>1.983789</td>\n",
       "      <td>0.664594</td>\n",
       "      <td>2.699902</td>\n",
       "      <td>0.493311</td>\n",
       "      <td>1.350642</td>\n",
       "      <td>0.488579</td>\n",
       "      <td>0.436998</td>\n",
       "      <td>0.370205</td>\n",
       "      <td>0.388544</td>\n",
       "      <td>...</td>\n",
       "      <td>2.332871</td>\n",
       "      <td>1.202963</td>\n",
       "      <td>1.694887</td>\n",
       "      <td>2.746652</td>\n",
       "      <td>0.327779</td>\n",
       "      <td>0.483381</td>\n",
       "      <td>0.497056</td>\n",
       "      <td>0.452447</td>\n",
       "      <td>0.476662</td>\n",
       "      <td>0.360295</td>\n",
       "    </tr>\n",
       "    <tr>\n",
       "      <th>min</th>\n",
       "      <td>0.000000</td>\n",
       "      <td>0.000000</td>\n",
       "      <td>-1.000000</td>\n",
       "      <td>0.000000</td>\n",
       "      <td>-1.000000</td>\n",
       "      <td>-1.000000</td>\n",
       "      <td>0.000000</td>\n",
       "      <td>0.000000</td>\n",
       "      <td>0.000000</td>\n",
       "      <td>0.000000</td>\n",
       "      <td>...</td>\n",
       "      <td>0.000000</td>\n",
       "      <td>0.000000</td>\n",
       "      <td>0.000000</td>\n",
       "      <td>0.000000</td>\n",
       "      <td>0.000000</td>\n",
       "      <td>0.000000</td>\n",
       "      <td>0.000000</td>\n",
       "      <td>0.000000</td>\n",
       "      <td>0.000000</td>\n",
       "      <td>0.000000</td>\n",
       "    </tr>\n",
       "    <tr>\n",
       "      <th>25%</th>\n",
       "      <td>0.000000</td>\n",
       "      <td>0.000000</td>\n",
       "      <td>1.000000</td>\n",
       "      <td>2.000000</td>\n",
       "      <td>0.000000</td>\n",
       "      <td>0.000000</td>\n",
       "      <td>0.000000</td>\n",
       "      <td>0.000000</td>\n",
       "      <td>0.000000</td>\n",
       "      <td>0.000000</td>\n",
       "      <td>...</td>\n",
       "      <td>4.000000</td>\n",
       "      <td>1.000000</td>\n",
       "      <td>2.000000</td>\n",
       "      <td>6.000000</td>\n",
       "      <td>0.000000</td>\n",
       "      <td>0.000000</td>\n",
       "      <td>0.000000</td>\n",
       "      <td>0.000000</td>\n",
       "      <td>0.000000</td>\n",
       "      <td>0.000000</td>\n",
       "    </tr>\n",
       "    <tr>\n",
       "      <th>50%</th>\n",
       "      <td>0.000000</td>\n",
       "      <td>1.000000</td>\n",
       "      <td>1.000000</td>\n",
       "      <td>4.000000</td>\n",
       "      <td>0.000000</td>\n",
       "      <td>0.000000</td>\n",
       "      <td>0.000000</td>\n",
       "      <td>0.000000</td>\n",
       "      <td>0.000000</td>\n",
       "      <td>0.000000</td>\n",
       "      <td>...</td>\n",
       "      <td>5.000000</td>\n",
       "      <td>1.000000</td>\n",
       "      <td>3.000000</td>\n",
       "      <td>7.000000</td>\n",
       "      <td>0.000000</td>\n",
       "      <td>1.000000</td>\n",
       "      <td>1.000000</td>\n",
       "      <td>0.000000</td>\n",
       "      <td>0.000000</td>\n",
       "      <td>0.000000</td>\n",
       "    </tr>\n",
       "    <tr>\n",
       "      <th>75%</th>\n",
       "      <td>0.000000</td>\n",
       "      <td>3.000000</td>\n",
       "      <td>2.000000</td>\n",
       "      <td>6.000000</td>\n",
       "      <td>1.000000</td>\n",
       "      <td>0.000000</td>\n",
       "      <td>1.000000</td>\n",
       "      <td>1.000000</td>\n",
       "      <td>0.000000</td>\n",
       "      <td>0.000000</td>\n",
       "      <td>...</td>\n",
       "      <td>7.000000</td>\n",
       "      <td>2.000000</td>\n",
       "      <td>4.000000</td>\n",
       "      <td>9.000000</td>\n",
       "      <td>0.000000</td>\n",
       "      <td>1.000000</td>\n",
       "      <td>1.000000</td>\n",
       "      <td>1.000000</td>\n",
       "      <td>1.000000</td>\n",
       "      <td>0.000000</td>\n",
       "    </tr>\n",
       "    <tr>\n",
       "      <th>max</th>\n",
       "      <td>1.000000</td>\n",
       "      <td>7.000000</td>\n",
       "      <td>4.000000</td>\n",
       "      <td>11.000000</td>\n",
       "      <td>1.000000</td>\n",
       "      <td>6.000000</td>\n",
       "      <td>1.000000</td>\n",
       "      <td>1.000000</td>\n",
       "      <td>1.000000</td>\n",
       "      <td>1.000000</td>\n",
       "      <td>...</td>\n",
       "      <td>19.000000</td>\n",
       "      <td>10.000000</td>\n",
       "      <td>13.000000</td>\n",
       "      <td>23.000000</td>\n",
       "      <td>1.000000</td>\n",
       "      <td>1.000000</td>\n",
       "      <td>1.000000</td>\n",
       "      <td>1.000000</td>\n",
       "      <td>1.000000</td>\n",
       "      <td>1.000000</td>\n",
       "    </tr>\n",
       "  </tbody>\n",
       "</table>\n",
       "<p>8 rows × 58 columns</p>\n",
       "</div>"
      ],
      "text/plain": [
       "              target      ps_ind_01  ps_ind_02_cat      ps_ind_03  \\\n",
       "count  595212.000000  595212.000000  595212.000000  595212.000000   \n",
       "mean        0.036448       1.900378       1.358943       4.423318   \n",
       "std         0.187401       1.983789       0.664594       2.699902   \n",
       "min         0.000000       0.000000      -1.000000       0.000000   \n",
       "25%         0.000000       0.000000       1.000000       2.000000   \n",
       "50%         0.000000       1.000000       1.000000       4.000000   \n",
       "75%         0.000000       3.000000       2.000000       6.000000   \n",
       "max         1.000000       7.000000       4.000000      11.000000   \n",
       "\n",
       "       ps_ind_04_cat  ps_ind_05_cat  ps_ind_06_bin  ps_ind_07_bin  \\\n",
       "count  595212.000000  595212.000000  595212.000000  595212.000000   \n",
       "mean        0.416794       0.405188       0.393742       0.257033   \n",
       "std         0.493311       1.350642       0.488579       0.436998   \n",
       "min        -1.000000      -1.000000       0.000000       0.000000   \n",
       "25%         0.000000       0.000000       0.000000       0.000000   \n",
       "50%         0.000000       0.000000       0.000000       0.000000   \n",
       "75%         1.000000       0.000000       1.000000       1.000000   \n",
       "max         1.000000       6.000000       1.000000       1.000000   \n",
       "\n",
       "       ps_ind_08_bin  ps_ind_09_bin  ...     ps_calc_11     ps_calc_12  \\\n",
       "count  595212.000000  595212.000000  ...  595212.000000  595212.000000   \n",
       "mean        0.163921       0.185304  ...       5.441382       1.441918   \n",
       "std         0.370205       0.388544  ...       2.332871       1.202963   \n",
       "min         0.000000       0.000000  ...       0.000000       0.000000   \n",
       "25%         0.000000       0.000000  ...       4.000000       1.000000   \n",
       "50%         0.000000       0.000000  ...       5.000000       1.000000   \n",
       "75%         0.000000       0.000000  ...       7.000000       2.000000   \n",
       "max         1.000000       1.000000  ...      19.000000      10.000000   \n",
       "\n",
       "          ps_calc_13     ps_calc_14  ps_calc_15_bin  ps_calc_16_bin  \\\n",
       "count  595212.000000  595212.000000   595212.000000   595212.000000   \n",
       "mean        2.872288       7.539026        0.122427        0.627840   \n",
       "std         1.694887       2.746652        0.327779        0.483381   \n",
       "min         0.000000       0.000000        0.000000        0.000000   \n",
       "25%         2.000000       6.000000        0.000000        0.000000   \n",
       "50%         3.000000       7.000000        0.000000        1.000000   \n",
       "75%         4.000000       9.000000        0.000000        1.000000   \n",
       "max        13.000000      23.000000        1.000000        1.000000   \n",
       "\n",
       "       ps_calc_17_bin  ps_calc_18_bin  ps_calc_19_bin  ps_calc_20_bin  \n",
       "count   595212.000000   595212.000000   595212.000000   595212.000000  \n",
       "mean         0.554182        0.287182        0.349024        0.153318  \n",
       "std          0.497056        0.452447        0.476662        0.360295  \n",
       "min          0.000000        0.000000        0.000000        0.000000  \n",
       "25%          0.000000        0.000000        0.000000        0.000000  \n",
       "50%          1.000000        0.000000        0.000000        0.000000  \n",
       "75%          1.000000        1.000000        1.000000        0.000000  \n",
       "max          1.000000        1.000000        1.000000        1.000000  \n",
       "\n",
       "[8 rows x 58 columns]"
      ]
     },
     "execution_count": 34,
     "metadata": {},
     "output_type": "execute_result"
    }
   ],
   "source": [
    "insurance_data.describe()"
   ]
  },
  {
   "cell_type": "markdown",
   "metadata": {},
   "source": [
    "As you see, there are less than 4% of positive examples, so we have to deal with a highly imbalanced dataset."
   ]
  },
  {
   "cell_type": "code",
   "execution_count": 35,
   "metadata": {},
   "outputs": [
    {
     "data": {
      "image/png": "[encoded data removed]",
      "text/plain": [
       "<Figure size 432x288 with 1 Axes>"
      ]
     },
     "metadata": {
      "needs_background": "light"
     },
     "output_type": "display_data"
    }
   ],
   "source": [
    "sns.countplot(x='target', data=insurance_data)\n",
    "plt.show()"
   ]
  },
  {
   "cell_type": "markdown",
   "metadata": {},
   "source": [
    "Accuracy is not informative here and the Normalized Gini Coefficient will be used instead: https://www.kaggle.com/c/porto-seguro-safe-driver-prediction/overview/evaluation."
   ]
  },
  {
   "cell_type": "code",
   "execution_count": 36,
   "metadata": {},
   "outputs": [],
   "source": [
    "# Code for calculating Normalized gini coefficient\n",
    "# https://www.kaggle.com/c/ClaimPredictionChallenge/discussion/703\n",
    "def gini(actual, pred, cmpcol = 0, sortcol = 1):  \n",
    "    assert(len(actual) == len(pred))  \n",
    "    epsilon = 1e-7\n",
    "    values = np.asarray(np.c_[actual, pred, np.arange(len(actual))], dtype=np.float)  \n",
    "    values = values[np.lexsort((values[:, 2], -1 * values[:, 1]))]  \n",
    "    total = values[:, 0].sum() \n",
    "    gini_sum = (values[:, 0].cumsum().sum() + epsilon) / (total + epsilon)  \n",
    "  \n",
    "    gini_sum -= (len(actual) + 1) / 2  \n",
    "    return gini_sum / len(actual)  \n",
    "  \n",
    "def gini_normalized(a, p):  \n",
    "    '''Function to calculate the normalized gini coefficient'''\n",
    "    return gini(a, p) / gini(a, a)"
   ]
  },
  {
   "cell_type": "markdown",
   "metadata": {},
   "source": [
    "**(1.5 points)** Prove that the **Normalized Gini Coefficient** is equivalent to **2 x AUC - 1** :"
   ]
  },
  {
   "cell_type": "markdown",
   "metadata": {},
   "source": [
    "В машинном обучении Коэффициент Джини численно равен площади фигуры, образованной линией абсолютного равенства и кривой Лоренца. Нормализованный коэффициент Джини равен отношению коэффициента обученной модели к коэффициенту идеальной модели.\n",
    "\n",
    "$$ Gini_{normalized}=\\frac{Gini_{model}}{Gini_{perfect}} \\quad (1) $$\n",
    "\n",
    "AUC ROC – площадь под ROC-кривой – часто используют для оценивания качества упорядочивания алгоритмом объектов двух классов. Численное значение его равно:\n",
    "\n",
    "$$ AUCROC = \\frac{\\displaystyle\\sum_{i=1}^{n_{i}}\\displaystyle\\sum_{j=1}^{n_{0}}S(x_{i},x_{j})}{n_{1}*n_{0}} $$\n",
    "\n",
    "\n",
    "$$ \\begin{equation*}\n",
    " S(x_{i},x_{j}) =\n",
    " \\begin{cases}\n",
    "   1,  x_{i} >  x_{j}, \n",
    "   \\\\\n",
    "   \\frac{1}{2},  x_{i} = x_{j},\n",
    "   \\\\\n",
    "   0,  x_{i} < x_{j}.\n",
    " \\end{cases}\n",
    "\\end{equation*}\n",
    "$$\n",
    "\n",
    "где хi— ответ алгоритма на i-ом объекте из распределения «1», xj— ответ алгоритма на j-ом объекте из распределения «0». Пусть модель прогнозирует k возможных значений из множества S, где S - какое-то вероятностное распределение, элементы которого принимают значения на интервале [0, 1]. Пусть Sn1 множество значений, которые принимают объекты n1 и Sn1. Обозначим pn0 как вероятность того, что объект n0 примет значение si, и pni как вероятность того, что объект n1 примет значение si. Тогда\n",
    "\n",
    "$$ \\displaystyle\\sum_{i=1}^{k} p_{n_{0}}^{i} = 1 и \\displaystyle\\sum_{i=1}^{k} p_{n_{1}}^{i} = 1$$\n",
    "\n",
    "Имея априорную вероятность $\\pi$ для каждого объекта выборки, можем записать формулу, определяющую вероятность того, что объект примет значение si:\n",
    "\n",
    "$$ p_{n}^{i} = \\pi p_{n_{0}}^{i} +(1-\\pi) p_{n_{1}}^{i}$$\n",
    "\n",
    "Зададим три функции распределения: — для объектов класса «1» — для объектов класса «0» — для всех объектов выборки\n",
    "\n",
    "$$ CDF_{n_{j}}^{i} = \\displaystyle\\sum_{i=1}^{j=1} p_{n_{1}}^{i} \\quad \\quad i=1,...,k$$\n",
    "\n",
    "$$ CDF_{n_{0}}^{i} = \\displaystyle\\sum_{i=1}^{j=1} p_{n_{0}}^{i} \\quad \\quad i=1,...,k$$\n",
    "\n",
    "$$ CDF_{n}^{i} = \\displaystyle\\sum_{i=1}^{j=1} p_{n}^{i} \\quad \\quad i=1,...,k$$\n",
    "\n",
    "Запишем формулу Вилкоксона в вероятностном виде и преобразуем её:\n",
    "\n",
    "$$ AUCROC = P(S_{n_{1}}>S_{n_{0}})+\\frac{1}{2}P(S_{n_{1}}=S_{n_{0}}) = $$\n",
    "\n",
    "$$ \\displaystyle\\sum_{i=1}^{k} P(S_{n_{1}}\\geq s_{i-1}) P(S_{n_{0}}=s_{i})+\\frac{1}{2}\\displaystyle\\sum_{i=1}^{k} P(S_{n_{1}}=s_{i}) P(S_{n_{0}}=s_{i}) =$$\n",
    "\n",
    "$$ \\displaystyle\\sum_{i=1}^{k} ((P(S_{n_{1}}\\geq s_{i-1}) + \\frac{1}{2} P(S_{n_{1}}=s_{i}))) P(S_{n_{0}}=s_{i}) = $$\n",
    "\n",
    "$$ \\displaystyle\\sum_{i=1}^{k} \\frac{1}{2}(P(S_{n_{1}}\\geq s_{i}) +  P(S_{n_{1}} \\geq s_{i-1})) P(S_{n_{0}}=s_{i}) = $$\n",
    "\n",
    "$$ \\displaystyle\\sum_{i=1}^{k} \\frac{1}{2}(CDF_{n_{1}}^{i}+CDF_{n_{1}}^{i-1})(CDF_{n_{0}}^{i}+CDF_{n_{0}}^{i-1}) \\quad (2) $$\n",
    "\n",
    "Аналогичную формулу можем выписать для площади под Lift Curve (помним, что она состоит из суммы двух площадей, одна из которых всегда равна 0.5):\n",
    "\n",
    "$$ AUCLift = Gini_{model}+ 0.5 = \\displaystyle\\sum_{i=1}^{k} \\frac{1}{2}(CDF_{n_{1}}^{i}+CDF_{n_{1}}^{i-1})(CDF_{n}^{i}+CDF_{n}^{i-1})$$\n",
    "\n",
    "И теперь преобразуем её:\n",
    "\n",
    "$$ AUCLift = Gini_{model}+ 0.5 = \\displaystyle\\sum_{i=1}^{k} \\frac{1}{2}(CDF_{n_{1}}^{i}+CDF_{n_{1}}^{i-1})(CDF_{n}^{i}+CDF_{n}^{i-1})= $$\n",
    "\n",
    "$$ \\displaystyle\\sum_{i=1}^{k} \\frac{1}{2}(CDF_{n_{1}}^{i}+CDF_{n_{1}}^{i-1})(\\pi(CDF_{n_{1}}^{i}+CDF_{n_{1}}^{i-1})+(1-\\pi)(CDF_{n_{0}}^{i}+CDF_{n_{0}}^{i-1}))=$$\n",
    "\n",
    "$$ (1-\\pi)\\displaystyle\\sum_{i=1}^{k} \\frac{1}{2}(CDF_{n_{1}}^{i}+CDF_{n_{1}}^{i-1})(CDF_{n_{0}}^{i}-CDF_{n_{0}}^{i-1})+$$\n",
    "\n",
    "$$ \\pi \\displaystyle\\sum_{i=1}^{k} \\frac{1}{2}(CDF_{n_{1}}^{i}+CDF_{n_{1}}^{i-1})(CDF_{n_{1}}^{i}-CDF_{n_{1}}^{i-1}) =$$\n",
    "\n",
    "$$ (1-\\pi)AUCROC+\\frac{1}{2} \\pi \\displaystyle\\sum_{i=1}^{k} ((CDF_{n_{1}^{i}})^{2}-(CDF_{n_{0}^{i-1}})^{2}) = $$\n",
    "\n",
    "$$ (1-\\pi)AUCROC+\\frac{1}{2} \\pi \\quad (3) $$\n",
    "\n",
    "Для идеальной модели формула запишется просто:\n",
    "\n",
    "$$ Gini_{perfect} = \\frac{1}{2}(1-\\pi) \\quad (4)$$\n",
    "\n",
    "Следовательно из (3) и (4), получим:\n",
    "\n",
    "$$ Gini_{normalized}=\\frac{Gini_{model}}{Gini_{perfect}}=\\frac{(1-\\pi)AUCROC+\\frac{1}{2} \\pi}{\\frac{1}{2}(1-\\pi)} = 2AUCROC-1 $$\n",
    "\n",
    "Что и требовалось доказать."
   ]
  },
  {
   "cell_type": "markdown",
   "metadata": {},
   "source": [
    "**(0.5 points)** By the way, what other metrics could you suggest for this problem?"
   ]
  },
  {
   "cell_type": "markdown",
   "metadata": {},
   "source": [
    "Confusion Matrix: A breakdown of predictions into a table showing correct predictions (the diagonal) and the types of incorrect predictions made (what classes incorrect predictions were assigned).\n",
    "\n",
    "Precision: A measure of a classifiers exactness.\n",
    "\n",
    "Recall: A measure of a classifiers completeness\n",
    "\n",
    "F1 Score (or F-score): A weighted average of precision and recall."
   ]
  },
  {
   "cell_type": "markdown",
   "metadata": {},
   "source": [
    "Let's calculate the Normalized Gini Coefficient:"
   ]
  },
  {
   "cell_type": "code",
   "execution_count": 37,
   "metadata": {},
   "outputs": [],
   "source": [
    "y_pred = clf.predict_proba(X_valid)[:, 1]"
   ]
  },
  {
   "cell_type": "code",
   "execution_count": 38,
   "metadata": {},
   "outputs": [
    {
     "data": {
      "text/plain": [
       "0.2558723581569817"
      ]
     },
     "execution_count": 38,
     "metadata": {},
     "output_type": "execute_result"
    }
   ],
   "source": [
    "gini_normalized(y_valid, y_pred)"
   ]
  },
  {
   "cell_type": "markdown",
   "metadata": {},
   "source": [
    "**(0.5 points + Y bonus points)** Try different approaches: oversampling / undersampling, careful feature analysis and feature engineering, etc., to get a reasonable pipeline and improve the model quality. Use cross-validation for model evaluation.\n",
    "\n",
    "Select the best model, load the test set and make the predictions. Submit them to kaggle.\n",
    "Y bonus points will be calculated as $\\frac{round(200 * \\max(score - 0.253, 0))}{2}$, where *score* is your kaggle leaderboard score.\n",
    "\n",
    "Note: do not use any classification models which have not been covered in the lessons yet."
   ]
  },
  {
   "cell_type": "code",
   "execution_count": 39,
   "metadata": {},
   "outputs": [
    {
     "name": "stdout",
     "output_type": "stream",
     "text": [
      "573518 21694\n"
     ]
    }
   ],
   "source": [
    "## your code\n",
    "my_data_ones=insurance_data[insurance_data.target==1]\n",
    "\n",
    "my_data_zeros=insurance_data[insurance_data.target==0]\n",
    "zeros=my_data_zeros.shape[0]\n",
    "ones=my_data_ones.shape[0]\n",
    "print(zeros,ones)"
   ]
  },
  {
   "cell_type": "code",
   "execution_count": 40,
   "metadata": {
    "code_folding": []
   },
   "outputs": [
    {
     "data": {
      "image/png": "[encoded data removed]",
      "text/plain": [
       "<Figure size 432x288 with 1 Axes>"
      ]
     },
     "metadata": {
      "needs_background": "light"
     },
     "output_type": "display_data"
    }
   ],
   "source": [
    "n=int(zeros/ones)\n",
    "#my_data_zeros=output_women.append(my_data_ones)\n",
    "#print(n,type(n))\n",
    "i=1\n",
    "while i < n:\n",
    "    i=i+1\n",
    "    my_data_zeros=my_data_zeros.append(my_data_ones)\n",
    "sns.countplot(x='target', data=my_data_zeros)\n",
    "plt.show()"
   ]
  },
  {
   "cell_type": "code",
   "execution_count": 42,
   "metadata": {},
   "outputs": [
    {
     "name": "stdout",
     "output_type": "stream",
     "text": [
      "0.5937668963827925\n",
      "0.2654409087073707\n"
     ]
    }
   ],
   "source": [
    "y_mod = my_data_zeros['target']\n",
    "X_mod = my_data_zeros.drop(columns=['target'])\n",
    "X_train_mod, X_valid_mod, y_train_mod, y_valid_mod = train_test_split(X_mod, y_mod, test_size=0.3, random_state=42)\n",
    "clf = pipeline.fit(X_train_mod, y_train_mod)\n",
    "print(accuracy_score(y_true=y_valid_mod, y_pred=clf.predict(X_valid_mod)))\n",
    "y_pred_mod = clf.predict_proba(X_valid_mod)[:, 1]\n",
    "print(gini_normalized(y_valid_mod, y_pred_mod))\n"
   ]
  },
  {
   "cell_type": "code",
   "execution_count": 43,
   "metadata": {},
   "outputs": [],
   "source": [
    "data = pd.read_csv(os.path.join(PATH, 'porto', 'test.csv')).set_index('id')\n",
    "X_test = data\n",
    "y_pred_test = clf.predict_proba(X_test)[:, 1]"
   ]
  },
  {
   "cell_type": "code",
   "execution_count": 44,
   "metadata": {},
   "outputs": [],
   "source": [
    "csv_input = pd.read_csv(os.path.join(PATH, 'porto', 'sample_submission.csv')).set_index('id')\n",
    "csv_input['target'] = np.around(y_pred_test, decimals=4)\n",
    "csv_input.to_csv('sample_submission.csv', index=True)"
   ]
  },
  {
   "cell_type": "code",
   "execution_count": 47,
   "metadata": {},
   "outputs": [
    {
     "name": "stdout",
     "output_type": "stream",
     "text": [
      "Y_bonus =  0.5\n"
     ]
    }
   ],
   "source": [
    "score=0.25862\n",
    "Y_bonus=round(200*max(score-0.253, 0)) / 2\n",
    "print(\"Y_bonus = \", Y_bonus)"
   ]
  }
 ],
 "metadata": {
  "kernelspec": {
   "display_name": "Python 3",
   "language": "python",
   "name": "python3"
  },
  "language_info": {
   "codemirror_mode": {
    "name": "ipython",
    "version": 3
   },
   "file_extension": ".py",
   "mimetype": "text/x-python",
   "name": "python",
   "nbconvert_exporter": "python",
   "pygments_lexer": "ipython3",
   "version": "3.8.5"
  }
 },
 "nbformat": 4,
 "nbformat_minor": 4
}
